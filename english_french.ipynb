{
  "nbformat": 4,
  "nbformat_minor": 0,
  "metadata": {
    "colab": {
      "name": "english_french.ipynb",
      "provenance": [],
      "mount_file_id": "1Zqrb_i5zvdtRrSVShA2m_YwJvF57ZcLu",
      "authorship_tag": "ABX9TyPE4ceJ9mTmUIiK5hOh3Z2s",
      "include_colab_link": true
    },
    "kernelspec": {
      "name": "python3",
      "display_name": "Python 3"
    },
    "language_info": {
      "name": "python"
    },
    "accelerator": "GPU"
  },
  "cells": [
    {
      "cell_type": "markdown",
      "metadata": {
        "id": "view-in-github",
        "colab_type": "text"
      },
      "source": [
        "<a href=\"https://colab.research.google.com/github/tejpal123456789/Machine-Translation/blob/main/english_french.ipynb\" target=\"_parent\"><img src=\"https://colab.research.google.com/assets/colab-badge.svg\" alt=\"Open In Colab\"/></a>"
      ]
    },
    {
      "cell_type": "code",
      "metadata": {
        "id": "_mOMESstpII7"
      },
      "source": [
        "import os, sys\n",
        "\n",
        "from keras.models import Model\n",
        "from keras.layers import Input, LSTM, GRU, Dense, Embedding\n",
        "from keras.preprocessing.text import Tokenizer\n",
        "from keras.preprocessing.sequence import pad_sequences\n",
        "from keras.utils import to_categorical\n",
        "import numpy as np\n",
        "import matplotlib.pyplot as plt\n",
        "import pandas as pd\n"
      ],
      "execution_count": 1,
      "outputs": []
    },
    {
      "cell_type": "code",
      "metadata": {
        "id": "08a9K9iopXT9"
      },
      "source": [
        "BATCH_SIZE = 64\n",
        "EPOCHS = 20\n",
        "LSTM_NODES =256\n",
        "NUM_SENTENCES = 15000\n",
        "MAX_SENTENCE_LENGTH = 50\n",
        "MAX_NUM_WORDS = 20000\n",
        "EMBEDDING_SIZE = 100"
      ],
      "execution_count": 2,
      "outputs": []
    },
    {
      "cell_type": "code",
      "metadata": {
        "id": "KeUgo3SrrgAk"
      },
      "source": [
        ""
      ],
      "execution_count": 2,
      "outputs": []
    },
    {
      "cell_type": "code",
      "metadata": {
        "id": "XxxmWkJbszI0"
      },
      "source": [
        "# Vectorize the data.\n",
        "input_texts = []\n",
        "target_texts = []\n",
        "\n",
        "with open('/content/drive/MyDrive/fra.txt', \"r\", encoding=\"utf-8\") as f:\n",
        "    lines = f.read().split(\"\\n\")\n",
        "for line in lines[: min(NUM_SENTENCES, len(lines) - 1)]:\n",
        "    input_text, target_text, _ = line.split(\"\\t\")\n",
        "    # We use \"tab\" as the \"start sequence\" character\n",
        "    # for the targets, and \"\\n\" as \"end sequence\" character.\n",
        "    target_text = \"start \" + target_text + \" end\"\n",
        "    input_texts.append(input_text)\n",
        "    target_texts.append(target_text)\n",
        "    "
      ],
      "execution_count": 3,
      "outputs": []
    },
    {
      "cell_type": "code",
      "metadata": {
        "id": "EZR94DynEcvm"
      },
      "source": [
        "df = pd.DataFrame(list(zip(input_texts, target_texts)),\n",
        "               columns =['english', 'french'])"
      ],
      "execution_count": 4,
      "outputs": []
    },
    {
      "cell_type": "code",
      "metadata": {
        "colab": {
          "base_uri": "https://localhost:8080/",
          "height": 202
        },
        "id": "dgeXDCfGEyEX",
        "outputId": "0540d38c-2da1-4918-db4e-d0f1888889ae"
      },
      "source": [
        "df.head()"
      ],
      "execution_count": 5,
      "outputs": [
        {
          "output_type": "execute_result",
          "data": {
            "text/html": [
              "<div>\n",
              "<style scoped>\n",
              "    .dataframe tbody tr th:only-of-type {\n",
              "        vertical-align: middle;\n",
              "    }\n",
              "\n",
              "    .dataframe tbody tr th {\n",
              "        vertical-align: top;\n",
              "    }\n",
              "\n",
              "    .dataframe thead th {\n",
              "        text-align: right;\n",
              "    }\n",
              "</style>\n",
              "<table border=\"1\" class=\"dataframe\">\n",
              "  <thead>\n",
              "    <tr style=\"text-align: right;\">\n",
              "      <th></th>\n",
              "      <th>english</th>\n",
              "      <th>french</th>\n",
              "    </tr>\n",
              "  </thead>\n",
              "  <tbody>\n",
              "    <tr>\n",
              "      <th>0</th>\n",
              "      <td>Go.</td>\n",
              "      <td>start Va ! end</td>\n",
              "    </tr>\n",
              "    <tr>\n",
              "      <th>1</th>\n",
              "      <td>Go.</td>\n",
              "      <td>start Marche. end</td>\n",
              "    </tr>\n",
              "    <tr>\n",
              "      <th>2</th>\n",
              "      <td>Go.</td>\n",
              "      <td>start Bouge ! end</td>\n",
              "    </tr>\n",
              "    <tr>\n",
              "      <th>3</th>\n",
              "      <td>Hi.</td>\n",
              "      <td>start Salut ! end</td>\n",
              "    </tr>\n",
              "    <tr>\n",
              "      <th>4</th>\n",
              "      <td>Hi.</td>\n",
              "      <td>start Salut. end</td>\n",
              "    </tr>\n",
              "  </tbody>\n",
              "</table>\n",
              "</div>"
            ],
            "text/plain": [
              "  english             french\n",
              "0     Go.     start Va ! end\n",
              "1     Go.  start Marche. end\n",
              "2     Go.  start Bouge ! end\n",
              "3     Hi.  start Salut ! end\n",
              "4     Hi.   start Salut. end"
            ]
          },
          "metadata": {
            "tags": []
          },
          "execution_count": 5
        }
      ]
    },
    {
      "cell_type": "code",
      "metadata": {
        "colab": {
          "base_uri": "https://localhost:8080/"
        },
        "id": "ZS-10Mh8tZAF",
        "outputId": "cf51157a-1648-4d38-8dcd-25135072926d"
      },
      "source": [
        "\n",
        "print(\"num samples input:\", len(input_texts))\n",
        "print(\"num samples output:\", len(target_texts))\n"
      ],
      "execution_count": 6,
      "outputs": [
        {
          "output_type": "stream",
          "text": [
            "num samples input: 15000\n",
            "num samples output: 15000\n"
          ],
          "name": "stdout"
        }
      ]
    },
    {
      "cell_type": "code",
      "metadata": {
        "id": "j-e8r3l0paok"
      },
      "source": [
        "input_sentences=input_texts\n",
        "output_sentences=target_texts"
      ],
      "execution_count": 7,
      "outputs": []
    },
    {
      "cell_type": "code",
      "metadata": {
        "id": "Pdc8L4dzpz7I",
        "colab": {
          "base_uri": "https://localhost:8080/"
        },
        "outputId": "db9c2279-c8f5-4034-b10d-f74521c5b9f2"
      },
      "source": [
        "print(input_sentences[172])\n",
        "print(output_sentences[172])\n"
      ],
      "execution_count": 8,
      "outputs": [
        {
          "output_type": "stream",
          "text": [
            "Beat it.\n",
            "start Bouge ! end\n"
          ],
          "name": "stdout"
        }
      ]
    },
    {
      "cell_type": "code",
      "metadata": {
        "id": "6Q6InM4lp32A",
        "colab": {
          "base_uri": "https://localhost:8080/"
        },
        "outputId": "eed9dccb-5616-47d2-cc1c-3ec524e11045"
      },
      "source": [
        "input_tokenizer = Tokenizer(num_words=MAX_NUM_WORDS)\n",
        "input_tokenizer.fit_on_texts(input_sentences)\n",
        "input_integer_seq = input_tokenizer.texts_to_sequences(input_sentences)\n",
        "\n",
        "word2idx_inputs = input_tokenizer.word_index\n",
        "print('Total unique words in the input: %s' % len(word2idx_inputs))\n",
        "\n",
        "max_input_len = max(len(sen) for sen in input_integer_seq)\n",
        "print(\"Length of longest sentence in input: %g\" % max_input_len)"
      ],
      "execution_count": 9,
      "outputs": [
        {
          "output_type": "stream",
          "text": [
            "Total unique words in the input: 2813\n",
            "Length of longest sentence in input: 5\n"
          ],
          "name": "stdout"
        }
      ]
    },
    {
      "cell_type": "code",
      "metadata": {
        "id": "AxEPPiDgp8Pa",
        "colab": {
          "base_uri": "https://localhost:8080/"
        },
        "outputId": "45a9c0e3-9372-43de-8a19-28483df6718d"
      },
      "source": [
        "output_tokenizer = Tokenizer(num_words=MAX_NUM_WORDS, filters='')\n",
        "output_tokenizer.fit_on_texts(output_sentences )\n",
        "output_integer_seq = output_tokenizer.texts_to_sequences(output_sentences)\n",
        "#output_input_integer_seq = output_tokenizer.texts_to_sequences(output_sentences_inputs)\n",
        "\n",
        "word2idx_outputs = output_tokenizer.word_index\n",
        "print('Total unique words in the output: %s' % len(word2idx_outputs))\n",
        "\n",
        "num_words_output = len(word2idx_outputs) + 1\n",
        "max_out_len = max(len(sen) for sen in output_integer_seq)\n",
        "print(\"Length of longest sentence in the output: %g\" % max_out_len)"
      ],
      "execution_count": 10,
      "outputs": [
        {
          "output_type": "stream",
          "text": [
            "Total unique words in the output: 7723\n",
            "Length of longest sentence in the output: 13\n"
          ],
          "name": "stdout"
        }
      ]
    },
    {
      "cell_type": "code",
      "metadata": {
        "colab": {
          "base_uri": "https://localhost:8080/"
        },
        "id": "gOF0ErDiyjnG",
        "outputId": "0d559797-e6e3-4d32-cc88-23778e7569da"
      },
      "source": [
        "encoder_input_sequences = pad_sequences(input_integer_seq, maxlen=max_input_len)\n",
        "print(\"encoder_input_sequences.shape:\", encoder_input_sequences.shape)\n",
        "print(\"encoder_input_sequences[172]:\", encoder_input_sequences[172])"
      ],
      "execution_count": 11,
      "outputs": [
        {
          "output_type": "stream",
          "text": [
            "encoder_input_sequences.shape: (15000, 5)\n",
            "encoder_input_sequences[172]: [  0   0   0 237   3]\n"
          ],
          "name": "stdout"
        }
      ]
    },
    {
      "cell_type": "code",
      "metadata": {
        "colab": {
          "base_uri": "https://localhost:8080/"
        },
        "id": "_S4iU0t-Frer",
        "outputId": "2582e874-c538-4912-9457-7c75d7d5c943"
      },
      "source": [
        "decoder_input_sequences = pad_sequences(output_integer_seq, maxlen=max_out_len, padding='post')\n",
        "print(\"decoder_input_sequences.shape:\", decoder_input_sequences.shape)\n",
        "print(\"decoder_input_sequences[172]:\", decoder_input_sequences[172])"
      ],
      "execution_count": 12,
      "outputs": [
        {
          "output_type": "stream",
          "text": [
            "decoder_input_sequences.shape: (15000, 13)\n",
            "decoder_input_sequences[172]: [  1 315   4   2   0   0   0   0   0   0   0   0   0]\n"
          ],
          "name": "stdout"
        }
      ]
    },
    {
      "cell_type": "code",
      "metadata": {
        "colab": {
          "base_uri": "https://localhost:8080/"
        },
        "id": "islAAmSAypFM",
        "outputId": "ba1b05a7-d9c2-466b-c38f-fb067faae40b"
      },
      "source": [
        "print(word2idx_inputs[\"i'm\"])\n",
        "print(word2idx_inputs[\"ill\"])"
      ],
      "execution_count": 13,
      "outputs": [
        {
          "output_type": "stream",
          "text": [
            "5\n",
            "440\n"
          ],
          "name": "stdout"
        }
      ]
    },
    {
      "cell_type": "code",
      "metadata": {
        "id": "QwfSDFptFznd"
      },
      "source": [
        ""
      ],
      "execution_count": 13,
      "outputs": []
    },
    {
      "cell_type": "code",
      "metadata": {
        "id": "M5tTS1sZyu_V"
      },
      "source": [
        ""
      ],
      "execution_count": 13,
      "outputs": []
    },
    {
      "cell_type": "code",
      "metadata": {
        "colab": {
          "base_uri": "https://localhost:8080/"
        },
        "id": "yGXJT-R10Ilf",
        "outputId": "07ef1658-cdaa-4d13-90d6-fbb3c3bb99fc"
      },
      "source": [
        "print(word2idx_outputs[\"start\"])\n",
        "print(word2idx_outputs[\"je\"])\n",
        "print(word2idx_outputs[\"suis\"])\n",
        "print(word2idx_outputs[\"malade.\"])"
      ],
      "execution_count": 14,
      "outputs": [
        {
          "output_type": "stream",
          "text": [
            "1\n",
            "3\n",
            "6\n",
            "170\n"
          ],
          "name": "stdout"
        }
      ]
    },
    {
      "cell_type": "code",
      "metadata": {
        "id": "knVgI1M10RBl"
      },
      "source": [
        "from numpy import array\n",
        "from numpy import asarray\n",
        "from numpy import zeros\n",
        "\n",
        "embeddings_dictionary = dict()\n",
        "\n",
        "glove_file = open(r'/content/drive/MyDrive/Glove/glove.twitter.27B.100d.txt', encoding=\"utf8\")\n",
        "\n",
        "for line in glove_file:\n",
        "    records = line.split()\n",
        "    word = records[0]\n",
        "    vector_dimensions = asarray(records[1:], dtype='float32')\n",
        "    embeddings_dictionary[word] = vector_dimensions\n",
        "glove_file.close()                            "
      ],
      "execution_count": 15,
      "outputs": []
    },
    {
      "cell_type": "code",
      "metadata": {
        "id": "x-zGNul80YoE"
      },
      "source": [
        "num_words = min(MAX_NUM_WORDS, len(word2idx_inputs) + 1)\n",
        "embedding_matrix = zeros((num_words, EMBEDDING_SIZE))\n",
        "for word, index in word2idx_inputs.items():\n",
        "    embedding_vector = embeddings_dictionary.get(word)\n",
        "    if embedding_vector is not None:\n",
        "        embedding_matrix[index] = embedding_vector"
      ],
      "execution_count": 16,
      "outputs": []
    },
    {
      "cell_type": "code",
      "metadata": {
        "id": "s8dsJhjS0b58"
      },
      "source": [
        "embedding_layer = Embedding(num_words, EMBEDDING_SIZE, weights=[embedding_matrix], input_length=max_input_len)"
      ],
      "execution_count": 17,
      "outputs": []
    },
    {
      "cell_type": "code",
      "metadata": {
        "id": "FZ8PcrdI0kqO"
      },
      "source": [
        "decoder_targets_one_hot = np.zeros((\n",
        "        len(input_sentences),\n",
        "        max_out_len,\n",
        "        num_words_output\n",
        "    ),\n",
        "    dtype='float32'\n",
        ")"
      ],
      "execution_count": 18,
      "outputs": []
    },
    {
      "cell_type": "code",
      "metadata": {
        "colab": {
          "base_uri": "https://localhost:8080/"
        },
        "id": "8CiKjff_0n2u",
        "outputId": "6244f03d-447e-461e-e4b7-0c836c4a5a51"
      },
      "source": [
        "decoder_targets_one_hot.shape"
      ],
      "execution_count": 19,
      "outputs": [
        {
          "output_type": "execute_result",
          "data": {
            "text/plain": [
              "(15000, 13, 7724)"
            ]
          },
          "metadata": {
            "tags": []
          },
          "execution_count": 19
        }
      ]
    },
    {
      "cell_type": "code",
      "metadata": {
        "id": "TD-9csPF0tCU"
      },
      "source": [
        "for i, d in enumerate(decoder_input_sequences):\n",
        "    for t, word in enumerate(d):\n",
        "        decoder_targets_one_hot[i, t-1, word] = 1"
      ],
      "execution_count": 20,
      "outputs": []
    },
    {
      "cell_type": "code",
      "metadata": {
        "id": "QsHGNtJL1UaU"
      },
      "source": [
        "encoder_inputs_placeholder = Input(shape=(max_input_len,))\n",
        "x = embedding_layer(encoder_inputs_placeholder)\n",
        "encoder = LSTM(LSTM_NODES, return_state=True)\n",
        "\n",
        "encoder_outputs, h, c = encoder(x)\n",
        "encoder_states = [h, c]"
      ],
      "execution_count": 21,
      "outputs": []
    },
    {
      "cell_type": "code",
      "metadata": {
        "id": "MMDoAT721X2u"
      },
      "source": [
        "decoder_inputs_placeholder = Input(shape=(max_out_len,))\n",
        "\n",
        "decoder_embedding = Embedding(num_words_output, LSTM_NODES)\n",
        "decoder_inputs_x = decoder_embedding(decoder_inputs_placeholder)\n",
        "\n",
        "decoder_lstm = LSTM(LSTM_NODES, return_sequences=True, return_state=True)\n",
        "decoder_outputs, _, _ = decoder_lstm(decoder_inputs_x, initial_state=encoder_states)"
      ],
      "execution_count": 22,
      "outputs": []
    },
    {
      "cell_type": "code",
      "metadata": {
        "id": "ZbWB_MG81c_d"
      },
      "source": [
        "decoder_dense = Dense(num_words_output, activation='softmax')\n",
        "decoder_outputs = decoder_dense(decoder_outputs)"
      ],
      "execution_count": 23,
      "outputs": []
    },
    {
      "cell_type": "code",
      "metadata": {
        "id": "6pChxPII1gOV"
      },
      "source": [
        "model = Model([encoder_inputs_placeholder,\n",
        "  decoder_inputs_placeholder], decoder_outputs)\n",
        "model.compile(\n",
        "    optimizer='rmsprop',\n",
        "    loss='categorical_crossentropy',\n",
        "    metrics=['accuracy']\n",
        ")"
      ],
      "execution_count": 24,
      "outputs": []
    },
    {
      "cell_type": "code",
      "metadata": {
        "colab": {
          "base_uri": "https://localhost:8080/",
          "height": 533
        },
        "id": "TKcXH6kQ1kn-",
        "outputId": "f91a4132-cb2b-4934-bcc2-72a07756840b"
      },
      "source": [
        "from keras.utils import plot_model\n",
        "plot_model(model, to_file='model_plot4a.png', show_shapes=True, show_layer_names=True)"
      ],
      "execution_count": 25,
      "outputs": [
        {
          "output_type": "execute_result",
          "data": {
            "image/png": "[encoded data removed]",
            "text/plain": [
              "<IPython.core.display.Image object>"
            ]
          },
          "metadata": {
            "tags": []
          },
          "execution_count": 25
        }
      ]
    },
    {
      "cell_type": "code",
      "metadata": {
        "colab": {
          "base_uri": "https://localhost:8080/"
        },
        "id": "FGJXKYKd1nXN",
        "outputId": "b8745846-502e-4a1d-eac5-ccebb36f7d80"
      },
      "source": [
        "r = model.fit(\n",
        "    [encoder_input_sequences, decoder_input_sequences],\n",
        "    decoder_targets_one_hot,\n",
        "    batch_size=BATCH_SIZE,\n",
        "    epochs=EPOCHS,\n",
        "    validation_split=0.1,\n",
        ")"
      ],
      "execution_count": 26,
      "outputs": [
        {
          "output_type": "stream",
          "text": [
            "Epoch 1/20\n",
            "211/211 [==============================] - 44s 47ms/step - loss: 2.8520 - accuracy: 0.6116 - val_loss: 2.0452 - val_accuracy: 0.7152\n",
            "Epoch 2/20\n",
            "211/211 [==============================] - 9s 42ms/step - loss: 1.5920 - accuracy: 0.7229 - val_loss: 1.7899 - val_accuracy: 0.7478\n",
            "Epoch 3/20\n",
            "211/211 [==============================] - 9s 42ms/step - loss: 1.3542 - accuracy: 0.7894 - val_loss: 2.0069 - val_accuracy: 0.6865\n",
            "Epoch 4/20\n",
            "211/211 [==============================] - 9s 41ms/step - loss: 1.2154 - accuracy: 0.8133 - val_loss: 1.8109 - val_accuracy: 0.7056\n",
            "Epoch 5/20\n",
            "211/211 [==============================] - 9s 42ms/step - loss: 1.1230 - accuracy: 0.8249 - val_loss: 1.5144 - val_accuracy: 0.7843\n",
            "Epoch 6/20\n",
            "211/211 [==============================] - 9s 41ms/step - loss: 1.0361 - accuracy: 0.8378 - val_loss: 1.4563 - val_accuracy: 0.7914\n",
            "Epoch 7/20\n",
            "211/211 [==============================] - 9s 42ms/step - loss: 0.9712 - accuracy: 0.8450 - val_loss: 1.4381 - val_accuracy: 0.7942\n",
            "Epoch 8/20\n",
            "211/211 [==============================] - 9s 42ms/step - loss: 0.9117 - accuracy: 0.8520 - val_loss: 1.4315 - val_accuracy: 0.7915\n",
            "Epoch 9/20\n",
            "211/211 [==============================] - 9s 43ms/step - loss: 0.8816 - accuracy: 0.8539 - val_loss: 1.4243 - val_accuracy: 0.7914\n",
            "Epoch 10/20\n",
            "211/211 [==============================] - 9s 43ms/step - loss: 0.8316 - accuracy: 0.8616 - val_loss: 1.4187 - val_accuracy: 0.7933\n",
            "Epoch 11/20\n",
            "211/211 [==============================] - 9s 43ms/step - loss: 0.7878 - accuracy: 0.8666 - val_loss: 1.4224 - val_accuracy: 0.7941\n",
            "Epoch 12/20\n",
            "211/211 [==============================] - 9s 42ms/step - loss: 0.7398 - accuracy: 0.8741 - val_loss: 1.4130 - val_accuracy: 0.7951\n",
            "Epoch 13/20\n",
            "211/211 [==============================] - 9s 42ms/step - loss: 0.7148 - accuracy: 0.8774 - val_loss: 1.4172 - val_accuracy: 0.7961\n",
            "Epoch 14/20\n",
            "211/211 [==============================] - 9s 42ms/step - loss: 0.6875 - accuracy: 0.8808 - val_loss: 1.6396 - val_accuracy: 0.7453\n",
            "Epoch 15/20\n",
            "211/211 [==============================] - 9s 41ms/step - loss: 0.6612 - accuracy: 0.8855 - val_loss: 1.4398 - val_accuracy: 0.7971\n",
            "Epoch 16/20\n",
            "211/211 [==============================] - 9s 42ms/step - loss: 0.6353 - accuracy: 0.8892 - val_loss: 1.4510 - val_accuracy: 0.7936\n",
            "Epoch 17/20\n",
            "211/211 [==============================] - 9s 41ms/step - loss: 0.6104 - accuracy: 0.8942 - val_loss: 1.4502 - val_accuracy: 0.7959\n",
            "Epoch 18/20\n",
            "211/211 [==============================] - 9s 41ms/step - loss: 0.5850 - accuracy: 0.8995 - val_loss: 1.4832 - val_accuracy: 0.7901\n",
            "Epoch 19/20\n",
            "211/211 [==============================] - 9s 41ms/step - loss: 0.5637 - accuracy: 0.9021 - val_loss: 1.4472 - val_accuracy: 0.7984\n",
            "Epoch 20/20\n",
            "211/211 [==============================] - 9s 41ms/step - loss: 0.5427 - accuracy: 0.9052 - val_loss: 1.4437 - val_accuracy: 0.7960\n"
          ],
          "name": "stdout"
        }
      ]
    },
    {
      "cell_type": "code",
      "metadata": {
        "id": "Nx67Dx1y1xcM"
      },
      "source": [
        "encoder_model = Model(encoder_inputs_placeholder, encoder_states)"
      ],
      "execution_count": 27,
      "outputs": []
    },
    {
      "cell_type": "code",
      "metadata": {
        "id": "mOtHp5JG1yJt"
      },
      "source": [
        "decoder_state_input_h = Input(shape=(LSTM_NODES,))\n",
        "decoder_state_input_c = Input(shape=(LSTM_NODES,))\n",
        "decoder_states_inputs = [decoder_state_input_h, decoder_state_input_c]"
      ],
      "execution_count": 28,
      "outputs": []
    },
    {
      "cell_type": "code",
      "metadata": {
        "id": "YNyICB4o11b9"
      },
      "source": [
        "decoder_inputs_single = Input(shape=(1,))\n",
        "decoder_inputs_single_x = decoder_embedding(decoder_inputs_single)"
      ],
      "execution_count": 29,
      "outputs": []
    },
    {
      "cell_type": "code",
      "metadata": {
        "id": "SZQbrIrx13st"
      },
      "source": [
        "decoder_outputs, h, c = decoder_lstm(decoder_inputs_single_x, initial_state=decoder_states_inputs)"
      ],
      "execution_count": 30,
      "outputs": []
    },
    {
      "cell_type": "code",
      "metadata": {
        "id": "cgO42g74153d"
      },
      "source": [
        "decoder_states = [h, c]\n",
        "decoder_outputs = decoder_dense(decoder_outputs)\n"
      ],
      "execution_count": 31,
      "outputs": []
    },
    {
      "cell_type": "code",
      "metadata": {
        "id": "DPdXVxB31-sV"
      },
      "source": [
        "decoder_model = Model(\n",
        "    [decoder_inputs_single] + decoder_states_inputs,\n",
        "    [decoder_outputs] + decoder_states\n",
        ")"
      ],
      "execution_count": 32,
      "outputs": []
    },
    {
      "cell_type": "code",
      "metadata": {
        "colab": {
          "base_uri": "https://localhost:8080/",
          "height": 417
        },
        "id": "jEnZW1kL2A3n",
        "outputId": "de5aef33-d412-4223-e3b6-16e6e6a01267"
      },
      "source": [
        "from keras.utils import plot_model\n",
        "plot_model(decoder_model, to_file='model_plot_dec.png', show_shapes=True, show_layer_names=True)"
      ],
      "execution_count": 33,
      "outputs": [
        {
          "output_type": "execute_result",
          "data": {
            "image/png": "[encoded data removed]",
            "text/plain": [
              "<IPython.core.display.Image object>"
            ]
          },
          "metadata": {
            "tags": []
          },
          "execution_count": 33
        }
      ]
    },
    {
      "cell_type": "code",
      "metadata": {
        "id": "gkoWxBTs2D5M"
      },
      "source": [
        "idx2word_input = {v:k for k, v in word2idx_inputs.items()}\n",
        "idx2word_target = {v:k for k, v in word2idx_outputs.items()}"
      ],
      "execution_count": 34,
      "outputs": []
    },
    {
      "cell_type": "code",
      "metadata": {
        "id": "4NSt46Ss2GXW"
      },
      "source": [
        "def translate_sentence(input_seq):\n",
        "    states_value = encoder_model.predict(input_seq)\n",
        "    target_seq = np.zeros((1, 1))\n",
        "    target_seq[0, 0] = word2idx_outputs['start']\n",
        "    eos = word2idx_outputs['end']\n",
        "    output_sentence = []\n",
        "\n",
        "    for _ in range(max_out_len):\n",
        "        output_tokens, h, c = decoder_model.predict([target_seq] + states_value)\n",
        "        idx = np.argmax(output_tokens[0, 0, :])\n",
        "\n",
        "        if eos == idx:\n",
        "            break\n",
        "\n",
        "        word = ''\n",
        "\n",
        "        if idx > 0:\n",
        "            word = idx2word_target[idx]\n",
        "            output_sentence.append(word)\n",
        "\n",
        "        target_seq[0, 0] = idx\n",
        "        states_value = [h, c]\n",
        "\n",
        "    return ' '.join(output_sentence)"
      ],
      "execution_count": 35,
      "outputs": []
    },
    {
      "cell_type": "code",
      "metadata": {
        "colab": {
          "base_uri": "https://localhost:8080/"
        },
        "id": "pRTYmlnu2Jan",
        "outputId": "1346eb9e-53f9-4d3e-c1d2-40300df06ea6"
      },
      "source": [
        "i = np.random.choice(len(input_sentences))\n",
        "input_seq = encoder_input_sequences[i:i+1]\n",
        "translation = translate_sentence(input_seq)\n",
        "print('-')\n",
        "print('Input:', input_sentences[i])\n",
        "print('original',output_sentences[i])\n",
        "print('Response:', translation)"
      ],
      "execution_count": 40,
      "outputs": [
        {
          "output_type": "stream",
          "text": [
            "-\n",
            "Input: He is young.\n",
            "original start Il est jeune. end\n",
            "Response: il est jeune.\n"
          ],
          "name": "stdout"
        }
      ]
    }
  ]
}